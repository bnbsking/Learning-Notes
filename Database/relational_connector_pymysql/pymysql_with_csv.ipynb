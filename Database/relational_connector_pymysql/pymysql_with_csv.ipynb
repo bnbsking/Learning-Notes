{
 "cells": [
  {
   "cell_type": "code",
   "execution_count": 1,
   "metadata": {},
   "outputs": [],
   "source": [
    "import pandas as pd\n",
    "import pymysql"
   ]
  },
  {
   "cell_type": "code",
   "execution_count": 2,
   "metadata": {},
   "outputs": [
    {
     "name": "stdout",
     "output_type": "stream",
     "text": [
      "     ID   name  phone\n",
      "0  2001  hello   2001\n",
      "1  2002  world   2002\n",
      "world\n"
     ]
    }
   ],
   "source": [
    "df = pd.read_csv(\"./test_input.csv\")\n",
    "print(df)\n",
    "print(df.loc[1]['name'])"
   ]
  },
  {
   "cell_type": "code",
   "execution_count": 9,
   "metadata": {},
   "outputs": [
    {
     "data": {
      "text/plain": [
       "0"
      ]
     },
     "execution_count": 9,
     "metadata": {},
     "output_type": "execute_result"
    }
   ],
   "source": [
    "connect = pymysql.connect(host='127.0.0.1', port=3306, user='root', passwd='1234',\\\n",
    "    db='mydb', charset='utf8')\n",
    "cursor = connect.cursor()\n",
    "cursor.execute(\"use mydb;\")"
   ]
  },
  {
   "cell_type": "code",
   "execution_count": 10,
   "metadata": {},
   "outputs": [
    {
     "data": {
      "text/plain": [
       "((1, 'test', '5678'), (123, 'bob', '1234'), (713, 'james', '7443'))"
      ]
     },
     "execution_count": 10,
     "metadata": {},
     "output_type": "execute_result"
    }
   ],
   "source": [
    "cursor.execute(\"use mydb;\")\n",
    "cursor.execute(\"select* from mytable;\")\n",
    "cursor.fetchall()"
   ]
  },
  {
   "cell_type": "code",
   "execution_count": 11,
   "metadata": {},
   "outputs": [
    {
     "data": {
      "text/plain": [
       "((1, 'test', '5678'),\n",
       " (123, 'bob', '1234'),\n",
       " (713, 'james', '7443'),\n",
       " (2001, 'hello', '2001'),\n",
       " (2002, 'world', '2002'))"
      ]
     },
     "execution_count": 11,
     "metadata": {},
     "output_type": "execute_result"
    }
   ],
   "source": [
    "for i in range(len(df)):\n",
    "    cursor.execute(\"insert into mytable(ID, name, phone) values({},'{}',{});\".format(\\\n",
    "    df.loc[i]['ID'], df.loc[i]['name'], df.loc[i]['phone']))\n",
    "connect.commit()\n",
    "\n",
    "cursor.execute(\"select* from mytable;\")\n",
    "cursor.fetchall()"
   ]
  },
  {
   "cell_type": "code",
   "execution_count": 24,
   "metadata": {},
   "outputs": [
    {
     "data": {
      "text/plain": [
       "((1, 'test', '5678'), (123, 'bob', '1234'), (713, 'james', '7443'))"
      ]
     },
     "execution_count": 24,
     "metadata": {},
     "output_type": "execute_result"
    }
   ],
   "source": [
    "cursor.execute(\"delete from mytable where ID=2001 or ID=2002;\")\n",
    "connect.commit()\n",
    "cursor.execute(\"select* from mytable;\")\n",
    "cursor.fetchall()"
   ]
  },
  {
   "cell_type": "code",
   "execution_count": 20,
   "metadata": {},
   "outputs": [
    {
     "name": "stdout",
     "output_type": "stream",
     "text": [
      "      ID   name phone\n",
      "0    1.0   test  5678\n",
      "1  123.0    bob  1234\n",
      "2  713.0  james  7443\n"
     ]
    }
   ],
   "source": [
    "df = pd.DataFrame({\"ID\":[], \"name\":[], \"phone\":[]})\n",
    "cursor.execute(\"select* from mytable;\")\n",
    "L = cursor.fetchall()\n",
    "for i in range(len(L)):\n",
    "    df.loc[i] = L[i]\n",
    "print(df)\n",
    "df.to_csv(\"test_output.csv\")"
   ]
  },
  {
   "cell_type": "code",
   "execution_count": null,
   "metadata": {},
   "outputs": [],
   "source": []
  },
  {
   "cell_type": "code",
   "execution_count": null,
   "metadata": {},
   "outputs": [],
   "source": []
  }
 ],
 "metadata": {
  "kernelspec": {
   "display_name": "Python 3",
   "language": "python",
   "name": "python3"
  },
  "language_info": {
   "codemirror_mode": {
    "name": "ipython",
    "version": 3
   },
   "file_extension": ".py",
   "mimetype": "text/x-python",
   "name": "python",
   "nbconvert_exporter": "python",
   "pygments_lexer": "ipython3",
   "version": "3.12.4"
  },
  "vscode": {
   "interpreter": {
    "hash": "aee8b7b246df8f9039afb4144a1f6fd8d2ca17a180786b69acc140d282b71a49"
   }
  }
 },
 "nbformat": 4,
 "nbformat_minor": 2
}
