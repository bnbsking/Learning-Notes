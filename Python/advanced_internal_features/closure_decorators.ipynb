{
 "cells": [
  {
   "cell_type": "code",
   "execution_count": 1,
   "id": "5c6c4f28",
   "metadata": {},
   "outputs": [],
   "source": [
    "from functools import lru_cache\n",
    "import logging\n",
    "from threading import Thread\n",
    "import time"
   ]
  },
  {
   "cell_type": "markdown",
   "id": "99224654",
   "metadata": {},
   "source": [
    "## Review closure: function has function argument\n",
    "+ Thread(target=f)\n",
    "+ model.compile(loss=f)\n",
    "+ QPushButton(connect=f)\n",
    "+ pd.apply(f)"
   ]
  },
  {
   "cell_type": "code",
   "execution_count": 2,
   "id": "5b20291b",
   "metadata": {},
   "outputs": [
    {
     "name": "stdout",
     "output_type": "stream",
     "text": [
      "hello\n",
      "hello James\n",
      "hello James\n"
     ]
    }
   ],
   "source": [
    "# no args\n",
    "def hello():\n",
    "    print(\"hello\")\n",
    "t = Thread(target=hello)\n",
    "t.start()\n",
    "t.join()\n",
    "\n",
    "# args: way 1\n",
    "def wrap(name):\n",
    "    def hello2():\n",
    "        print(f\"hello {name}\")\n",
    "    return hello2\n",
    "t = Thread(target=wrap(\"James\"))\n",
    "t.start()\n",
    "t.join()\n",
    "\n",
    "# args: way 2\n",
    "def hello2(name):\n",
    "    print(f\"hello {name}\")\n",
    "t = Thread(target=lambda :hello2(\"James\"))\n",
    "t.start()\n",
    "t.join()"
   ]
  },
  {
   "cell_type": "markdown",
   "id": "1b8d1ed4",
   "metadata": {},
   "source": [
    "## Raw issue"
   ]
  },
  {
   "cell_type": "code",
   "execution_count": 3,
   "id": "8fc8933a",
   "metadata": {},
   "outputs": [
    {
     "name": "stdout",
     "output_type": "stream",
     "text": [
      "6\n"
     ]
    },
    {
     "data": {
      "text/plain": [
       "6"
      ]
     },
     "execution_count": 3,
     "metadata": {},
     "output_type": "execute_result"
    }
   ],
   "source": [
    "def get_twice_and_print(x: int):\n",
    "    print(x * 2)\n",
    "    return x * 2\n",
    "    \n",
    "get_twice_and_print(3)"
   ]
  },
  {
   "cell_type": "code",
   "execution_count": 4,
   "id": "bb958fc5",
   "metadata": {},
   "outputs": [
    {
     "name": "stderr",
     "output_type": "stream",
     "text": [
      "WARNING:root:get_twice_and_print is running\n"
     ]
    },
    {
     "name": "stdout",
     "output_type": "stream",
     "text": [
      "6\n"
     ]
    },
    {
     "data": {
      "text/plain": [
       "6"
      ]
     },
     "execution_count": 4,
     "metadata": {},
     "output_type": "execute_result"
    }
   ],
   "source": [
    "# must modify calling code so ugly\n",
    "def wrap(f):\n",
    "    logging.warning(f\"{f.__name__} is running\")\n",
    "    return f\n",
    "\n",
    "def get_twice_and_print(x: int):\n",
    "    print(x * 2)\n",
    "    return x * 2\n",
    "    \n",
    "wrap(get_twice_and_print)(3)"
   ]
  },
  {
   "cell_type": "markdown",
   "id": "35ee1cac",
   "metadata": {},
   "source": [
    "## Decorator: add syntax without modify function and calling code e.g. logging, execution time\n",
    "\n",
    "#### 1. before function + without wrapping argument"
   ]
  },
  {
   "cell_type": "code",
   "execution_count": 5,
   "id": "a4740ea7",
   "metadata": {},
   "outputs": [
    {
     "name": "stderr",
     "output_type": "stream",
     "text": [
      "WARNING:root:get_twice_and_print is running\n"
     ]
    },
    {
     "name": "stdout",
     "output_type": "stream",
     "text": [
      "6\n"
     ]
    },
    {
     "data": {
      "text/plain": [
       "6"
      ]
     },
     "execution_count": 5,
     "metadata": {},
     "output_type": "execute_result"
    }
   ],
   "source": [
    "# wrap is a \"function in function out\" function and can be decorator syntax\n",
    "def wrap(f):\n",
    "    logging.warning(f\"{f.__name__} is running\")\n",
    "    return f\n",
    "\n",
    "@wrap\n",
    "def get_twice_and_print(x: int):\n",
    "    print(x * 2)\n",
    "    return x * 2\n",
    "\n",
    "get_twice_and_print(3)"
   ]
  },
  {
   "cell_type": "markdown",
   "id": "59eaa3c2",
   "metadata": {},
   "source": [
    "#### 2. before function + with wrapping argument"
   ]
  },
  {
   "cell_type": "code",
   "execution_count": 6,
   "id": "e875138d",
   "metadata": {},
   "outputs": [
    {
     "name": "stderr",
     "output_type": "stream",
     "text": [
      "WARNING:root:get_twice_and_print is running. x\n"
     ]
    },
    {
     "name": "stdout",
     "output_type": "stream",
     "text": [
      "6\n"
     ]
    },
    {
     "data": {
      "text/plain": [
       "6"
      ]
     },
     "execution_count": 6,
     "metadata": {},
     "output_type": "execute_result"
    }
   ],
   "source": [
    "# wrap_args is a \"arg in function out\" function and can be decorator syntax\n",
    "def wrap_args(msg=\"hi\"):\n",
    "    def wrap(f):\n",
    "        logging.warning(f\"{f.__name__} is running. {msg}\")\n",
    "        return f\n",
    "    return wrap\n",
    "\n",
    "@wrap_args(msg=\"x\")\n",
    "def get_twice_and_print(x: int):\n",
    "    print(x * 2)\n",
    "    return x * 2\n",
    "\n",
    "get_twice_and_print(3)"
   ]
  },
  {
   "cell_type": "markdown",
   "id": "cc32d062",
   "metadata": {},
   "source": [
    "#### 3. before and after function + without wrapping argument"
   ]
  },
  {
   "cell_type": "code",
   "execution_count": 7,
   "id": "fad0bb06",
   "metadata": {},
   "outputs": [
    {
     "name": "stdout",
     "output_type": "stream",
     "text": [
      "6\n",
      "5.53131103515625e-05\n"
     ]
    },
    {
     "data": {
      "text/plain": [
       "6.818771362304688e-05"
      ]
     },
     "execution_count": 7,
     "metadata": {},
     "output_type": "execute_result"
    }
   ],
   "source": [
    "def wrap(f):\n",
    "    def time_count(*args, **kwargs):\n",
    "        start = time.time()\n",
    "        f(*args, **kwargs)\n",
    "        print(time.time() - start)\n",
    "        return time.time() - start\n",
    "    return time_count\n",
    "\n",
    "@wrap\n",
    "def get_twice_and_print(x: int):\n",
    "    print(x * 2)\n",
    "    return x * 2\n",
    "\n",
    "get_twice_and_print(3)"
   ]
  },
  {
   "cell_type": "markdown",
   "id": "db2e065e",
   "metadata": {},
   "source": [
    "#### 4. before and after function + with wrapping argument"
   ]
  },
  {
   "cell_type": "code",
   "execution_count": 8,
   "id": "701361a3",
   "metadata": {},
   "outputs": [
    {
     "name": "stdout",
     "output_type": "stream",
     "text": [
      "6\n",
      "6.580352783203125e-05 x\n"
     ]
    },
    {
     "data": {
      "text/plain": [
       "9.369850158691406e-05"
      ]
     },
     "execution_count": 8,
     "metadata": {},
     "output_type": "execute_result"
    }
   ],
   "source": [
    "def wrap_args(msg=\"hi\"):\n",
    "    def wrap(f):\n",
    "        def time_count(*args, **kwargs):\n",
    "            start = time.time()\n",
    "            f(*args, **kwargs)\n",
    "            print(time.time() - start, msg)\n",
    "            return time.time() - start\n",
    "        return time_count\n",
    "    return wrap\n",
    "\n",
    "@wrap_args(msg=\"x\")\n",
    "def get_twice_and_print(x: int):\n",
    "    print(x * 2)\n",
    "    return x * 2\n",
    "\n",
    "get_twice_and_print(3)"
   ]
  },
  {
   "cell_type": "markdown",
   "id": "53a432fe",
   "metadata": {},
   "source": [
    "## Useful decorator: functool cache"
   ]
  },
  {
   "cell_type": "code",
   "execution_count": 9,
   "id": "a3d63511",
   "metadata": {},
   "outputs": [
    {
     "name": "stdout",
     "output_type": "stream",
     "text": [
      "832040\n",
      "0.1944746971130371\n",
      "832040\n",
      "0.18289804458618164\n",
      "832040\n",
      "0.1871659755706787\n"
     ]
    }
   ],
   "source": [
    "def fib(n: int):\n",
    "    return fib(n-1) + fib(n-2) if n > 1 else n\n",
    "\n",
    "for i in range(3):\n",
    "    start = time.time()\n",
    "    print(fib(30))\n",
    "    print(time.time() - start)"
   ]
  },
  {
   "cell_type": "code",
   "execution_count": 10,
   "id": "2a0d80ba",
   "metadata": {},
   "outputs": [
    {
     "name": "stdout",
     "output_type": "stream",
     "text": [
      "832040\n",
      "0.1826777458190918\n",
      "832040\n",
      "6.198883056640625e-06\n",
      "832040\n",
      "5.4836273193359375e-06\n"
     ]
    }
   ],
   "source": [
    "@lru_cache(maxsize=None)\n",
    "def cache_fib(n: int):\n",
    "    return fib(n-1) + fib(n-2) if n > 1 else n\n",
    "\n",
    "for i in range(3):\n",
    "    start = time.time()\n",
    "    print(cache_fib(30))\n",
    "    print(time.time() - start)"
   ]
  },
  {
   "cell_type": "code",
   "execution_count": null,
   "id": "bc5b637a",
   "metadata": {},
   "outputs": [],
   "source": []
  }
 ],
 "metadata": {
  "kernelspec": {
   "display_name": "base",
   "language": "python",
   "name": "python3"
  },
  "language_info": {
   "codemirror_mode": {
    "name": "ipython",
    "version": 3
   },
   "file_extension": ".py",
   "mimetype": "text/x-python",
   "name": "python",
   "nbconvert_exporter": "python",
   "pygments_lexer": "ipython3",
   "version": "3.11.10"
  }
 },
 "nbformat": 4,
 "nbformat_minor": 5
}
