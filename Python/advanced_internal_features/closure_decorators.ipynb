{
 "cells": [
  {
   "cell_type": "code",
   "execution_count": 11,
   "id": "5c6c4f28",
   "metadata": {},
   "outputs": [],
   "source": [
    "from functools import lru_cache\n",
    "import logging\n",
    "from threading import Thread\n",
    "import time"
   ]
  },
  {
   "cell_type": "markdown",
   "id": "99224654",
   "metadata": {},
   "source": [
    "## Review closure: function has function argument\n",
    "+ Thread(target=f)\n",
    "+ model.compile(loss=f)\n",
    "+ QPushButton(connect=f)\n",
    "+ pd.apply(f)"
   ]
  },
  {
   "cell_type": "code",
   "execution_count": 2,
   "id": "5b20291b",
   "metadata": {},
   "outputs": [
    {
     "name": "stdout",
     "output_type": "stream",
     "text": [
      "hello\n",
      "hello James\n",
      "hello James\n"
     ]
    }
   ],
   "source": [
    "# no args\n",
    "def hello():\n",
    "    print(\"hello\")\n",
    "t = Thread(target=hello)\n",
    "t.start()\n",
    "t.join()\n",
    "\n",
    "# args: way 1\n",
    "def wrap(name):\n",
    "    def hello2():\n",
    "        print(f\"hello {name}\")\n",
    "    return hello2\n",
    "t = Thread(target=wrap(\"James\"))\n",
    "t.start()\n",
    "t.join()\n",
    "\n",
    "# args: way 2\n",
    "def hello2(name):\n",
    "    print(f\"hello {name}\")\n",
    "t = Thread(target=lambda :hello2(\"James\"))\n",
    "t.start()\n",
    "t.join()"
   ]
  },
  {
   "cell_type": "markdown",
   "id": "1b8d1ed4",
   "metadata": {},
   "source": [
    "## Raw issue"
   ]
  },
  {
   "cell_type": "code",
   "execution_count": 3,
   "id": "8fc8933a",
   "metadata": {},
   "outputs": [
    {
     "name": "stdout",
     "output_type": "stream",
     "text": [
      "6\n"
     ]
    },
    {
     "data": {
      "text/plain": [
       "6"
      ]
     },
     "execution_count": 3,
     "metadata": {},
     "output_type": "execute_result"
    }
   ],
   "source": [
    "def get_twice_and_print(x: int):\n",
    "    print(x * 2)\n",
    "    return x * 2\n",
    "    \n",
    "get_twice_and_print(3)"
   ]
  },
  {
   "cell_type": "code",
   "execution_count": 4,
   "id": "bb958fc5",
   "metadata": {},
   "outputs": [
    {
     "name": "stderr",
     "output_type": "stream",
     "text": [
      "WARNING:root:get_twice_and_print is running\n"
     ]
    },
    {
     "name": "stdout",
     "output_type": "stream",
     "text": [
      "6\n"
     ]
    },
    {
     "data": {
      "text/plain": [
       "6"
      ]
     },
     "execution_count": 4,
     "metadata": {},
     "output_type": "execute_result"
    }
   ],
   "source": [
    "# must modify calling code so not good\n",
    "def wrap(f):\n",
    "    logging.warning(f\"{f.__name__} is running\")\n",
    "    return f\n",
    "\n",
    "def get_twice_and_print(x: int):\n",
    "    print(x * 2)\n",
    "    return x * 2\n",
    "    \n",
    "wrap(get_twice_and_print)(3)"
   ]
  },
  {
   "cell_type": "markdown",
   "id": "35ee1cac",
   "metadata": {},
   "source": [
    "## Decorator: add syntax without modify function and calling code e.g. logging, execution time\n",
    "\n",
    "#### 1. before function + without wrapping argument"
   ]
  },
  {
   "cell_type": "code",
   "execution_count": 5,
   "id": "a4740ea7",
   "metadata": {},
   "outputs": [
    {
     "name": "stderr",
     "output_type": "stream",
     "text": [
      "WARNING:root:get_twice_and_print is running\n"
     ]
    },
    {
     "name": "stdout",
     "output_type": "stream",
     "text": [
      "6\n"
     ]
    },
    {
     "data": {
      "text/plain": [
       "6"
      ]
     },
     "execution_count": 5,
     "metadata": {},
     "output_type": "execute_result"
    }
   ],
   "source": [
    "# wrap is a \"function in function out\" function and can be decorator syntax\n",
    "def wrap(f):\n",
    "    logging.warning(f\"{f.__name__} is running\")\n",
    "    return f\n",
    "\n",
    "@wrap\n",
    "def get_twice_and_print(x: int):\n",
    "    print(x * 2)\n",
    "    return x * 2\n",
    "\n",
    "get_twice_and_print(3)"
   ]
  },
  {
   "cell_type": "markdown",
   "id": "59eaa3c2",
   "metadata": {},
   "source": [
    "#### 2. before function + with wrapping argument"
   ]
  },
  {
   "cell_type": "code",
   "execution_count": 6,
   "id": "e875138d",
   "metadata": {},
   "outputs": [
    {
     "name": "stderr",
     "output_type": "stream",
     "text": [
      "WARNING:root:get_twice_and_print is running. x\n"
     ]
    },
    {
     "name": "stdout",
     "output_type": "stream",
     "text": [
      "6\n"
     ]
    },
    {
     "data": {
      "text/plain": [
       "6"
      ]
     },
     "execution_count": 6,
     "metadata": {},
     "output_type": "execute_result"
    }
   ],
   "source": [
    "# wrap_arg is a \"arg in function out\" function and can be decorator syntax\n",
    "def wrap_arg(msg=\"hi\"):\n",
    "    def wrap(f):\n",
    "        logging.warning(f\"{f.__name__} is running. {msg}\")\n",
    "        return f\n",
    "    return wrap\n",
    "\n",
    "@wrap_arg(msg=\"x\")\n",
    "def get_twice_and_print(x: int):\n",
    "    print(x * 2)\n",
    "    return x * 2\n",
    "\n",
    "get_twice_and_print(3)"
   ]
  },
  {
   "cell_type": "markdown",
   "id": "cc32d062",
   "metadata": {},
   "source": [
    "#### 3. before and after function + without wrapping argument"
   ]
  },
  {
   "cell_type": "code",
   "execution_count": 7,
   "id": "fad0bb06",
   "metadata": {},
   "outputs": [
    {
     "name": "stdout",
     "output_type": "stream",
     "text": [
      "6\n"
     ]
    },
    {
     "data": {
      "text/plain": [
       "6"
      ]
     },
     "execution_count": 7,
     "metadata": {},
     "output_type": "execute_result"
    }
   ],
   "source": [
    "def wrap(f):\n",
    "    def time_count(**kwargs):\n",
    "        start = time.time()\n",
    "        f(**kwargs)\n",
    "        print(time.time() - start)\n",
    "        return time.time() - start\n",
    "    return time_count\n",
    "\n",
    "def get_twice_and_print(x: int):\n",
    "    print(x * 2)\n",
    "    return x * 2\n",
    "\n",
    "get_twice_and_print(3)"
   ]
  },
  {
   "cell_type": "markdown",
   "id": "6b1b6d35",
   "metadata": {},
   "source": []
  },
  {
   "cell_type": "markdown",
   "id": "db2e065e",
   "metadata": {},
   "source": [
    "#### 4. before and after function + with wrapping argument"
   ]
  },
  {
   "cell_type": "code",
   "execution_count": 9,
   "id": "701361a3",
   "metadata": {},
   "outputs": [
    {
     "name": "stdout",
     "output_type": "stream",
     "text": [
      "6\n",
      "5.9604644775390625e-05 x\n"
     ]
    },
    {
     "data": {
      "text/plain": [
       "8.463859558105469e-05"
      ]
     },
     "execution_count": 9,
     "metadata": {},
     "output_type": "execute_result"
    }
   ],
   "source": [
    "def wrap_args(msg=\"hi\"):\n",
    "    def wrap(f):\n",
    "        def time_count(*args, **kwargs):\n",
    "            start = time.time()\n",
    "            f(*args, **kwargs)\n",
    "            print(time.time() - start, msg)\n",
    "            return time.time() - start\n",
    "        return time_count\n",
    "    return wrap\n",
    "\n",
    "@wrap_args(msg=\"x\")\n",
    "def get_twice_and_print(x: int):\n",
    "    print(x * 2)\n",
    "    return x * 2\n",
    "\n",
    "get_twice_and_print(3)"
   ]
  },
  {
   "cell_type": "markdown",
   "id": "53a432fe",
   "metadata": {},
   "source": [
    "## Useful decorator: functool cache"
   ]
  },
  {
   "cell_type": "code",
   "execution_count": null,
   "id": "a3d63511",
   "metadata": {},
   "outputs": [
    {
     "name": "stdout",
     "output_type": "stream",
     "text": [
      "832040\n",
      "0.17427563667297363\n",
      "832040\n",
      "0.18960332870483398\n",
      "832040\n",
      "0.16355586051940918\n"
     ]
    }
   ],
   "source": [
    "def fib(n: int):\n",
    "    return fib(n-1) + fib(n-2) if n > 1 else n\n",
    "\n",
    "for i in range(3):\n",
    "    start = time.time()\n",
    "    print(fib(30))\n",
    "    print(time.time() - start)"
   ]
  },
  {
   "cell_type": "code",
   "execution_count": 24,
   "id": "2a0d80ba",
   "metadata": {},
   "outputs": [
    {
     "name": "stdout",
     "output_type": "stream",
     "text": [
      "832040\n",
      "0.20626544952392578\n",
      "832040\n",
      "8.58306884765625e-06\n",
      "832040\n",
      "7.62939453125e-06\n"
     ]
    }
   ],
   "source": [
    "@lru_cache(maxsize=None)\n",
    "def cache_fib(n: int):\n",
    "    return fib(n-1) + fib(n-2) if n > 1 else n\n",
    "\n",
    "for i in range(3):\n",
    "    start = time.time()\n",
    "    print(cache_fib(30))\n",
    "    print(time.time() - start)"
   ]
  },
  {
   "cell_type": "code",
   "execution_count": null,
   "id": "bc5b637a",
   "metadata": {},
   "outputs": [],
   "source": []
  }
 ],
 "metadata": {
  "kernelspec": {
   "display_name": "base",
   "language": "python",
   "name": "python3"
  },
  "language_info": {
   "codemirror_mode": {
    "name": "ipython",
    "version": 3
   },
   "file_extension": ".py",
   "mimetype": "text/x-python",
   "name": "python",
   "nbconvert_exporter": "python",
   "pygments_lexer": "ipython3",
   "version": "3.11.10"
  }
 },
 "nbformat": 4,
 "nbformat_minor": 5
}
