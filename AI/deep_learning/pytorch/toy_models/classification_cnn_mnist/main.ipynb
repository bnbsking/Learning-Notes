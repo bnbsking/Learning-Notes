{
 "cells": [
  {
   "cell_type": "code",
   "execution_count": 34,
   "id": "af2de715",
   "metadata": {},
   "outputs": [],
   "source": [
    "import json\n",
    "import os\n",
    "import random\n",
    "\n",
    "import matplotlib.pyplot as plt\n",
    "import numpy as np\n",
    "import pandas as pd\n",
    "from sklearn.metrics import accuracy_score, confusion_matrix\n",
    "import torch\n",
    "from torch.utils.data import Dataset, DataLoader\n",
    "import torchvision.transforms as transforms\n",
    "import torchvision.models as models\n",
    "from tqdm import tqdm\n",
    "\n",
    "\n",
    "output_dir = \"./output\"\n",
    "os.makedirs(output_dir, exist_ok=True)"
   ]
  },
  {
   "cell_type": "markdown",
   "id": "4c79620b",
   "metadata": {},
   "source": [
    "### 1. Data preprocessing\n",
    "+ 1.1 observation and cleaning\n",
    "+ 1.2 splitting\n",
    "+ 1.3 numpy or dataloader\n",
    "\n",
    "+ download: [Kaggle link](https://www.kaggle.com/c/dogs-vs-cats/data?select=train.zip)\n",
    "+ more:\n",
    "    + Image augmentation\n",
    "    + Pretrain model\n",
    "    + Cross entropy loss\n",
    "    + Confusion matrix"
   ]
  },
  {
   "cell_type": "code",
   "execution_count": 2,
   "id": "c6f3d091",
   "metadata": {},
   "outputs": [
    {
     "name": "stdout",
     "output_type": "stream",
     "text": [
      "(60000, 785) (10000, 785)\n"
     ]
    },
    {
     "data": {
      "text/html": [
       "<div>\n",
       "<style scoped>\n",
       "    .dataframe tbody tr th:only-of-type {\n",
       "        vertical-align: middle;\n",
       "    }\n",
       "\n",
       "    .dataframe tbody tr th {\n",
       "        vertical-align: top;\n",
       "    }\n",
       "\n",
       "    .dataframe thead th {\n",
       "        text-align: right;\n",
       "    }\n",
       "</style>\n",
       "<table border=\"1\" class=\"dataframe\">\n",
       "  <thead>\n",
       "    <tr style=\"text-align: right;\">\n",
       "      <th></th>\n",
       "      <th>label</th>\n",
       "      <th>1x1</th>\n",
       "      <th>1x2</th>\n",
       "      <th>1x3</th>\n",
       "      <th>1x4</th>\n",
       "      <th>1x5</th>\n",
       "      <th>1x6</th>\n",
       "      <th>1x7</th>\n",
       "      <th>1x8</th>\n",
       "      <th>1x9</th>\n",
       "      <th>...</th>\n",
       "      <th>28x19</th>\n",
       "      <th>28x20</th>\n",
       "      <th>28x21</th>\n",
       "      <th>28x22</th>\n",
       "      <th>28x23</th>\n",
       "      <th>28x24</th>\n",
       "      <th>28x25</th>\n",
       "      <th>28x26</th>\n",
       "      <th>28x27</th>\n",
       "      <th>28x28</th>\n",
       "    </tr>\n",
       "  </thead>\n",
       "  <tbody>\n",
       "    <tr>\n",
       "      <th>0</th>\n",
       "      <td>5</td>\n",
       "      <td>0</td>\n",
       "      <td>0</td>\n",
       "      <td>0</td>\n",
       "      <td>0</td>\n",
       "      <td>0</td>\n",
       "      <td>0</td>\n",
       "      <td>0</td>\n",
       "      <td>0</td>\n",
       "      <td>0</td>\n",
       "      <td>...</td>\n",
       "      <td>0</td>\n",
       "      <td>0</td>\n",
       "      <td>0</td>\n",
       "      <td>0</td>\n",
       "      <td>0</td>\n",
       "      <td>0</td>\n",
       "      <td>0</td>\n",
       "      <td>0</td>\n",
       "      <td>0</td>\n",
       "      <td>0</td>\n",
       "    </tr>\n",
       "    <tr>\n",
       "      <th>1</th>\n",
       "      <td>0</td>\n",
       "      <td>0</td>\n",
       "      <td>0</td>\n",
       "      <td>0</td>\n",
       "      <td>0</td>\n",
       "      <td>0</td>\n",
       "      <td>0</td>\n",
       "      <td>0</td>\n",
       "      <td>0</td>\n",
       "      <td>0</td>\n",
       "      <td>...</td>\n",
       "      <td>0</td>\n",
       "      <td>0</td>\n",
       "      <td>0</td>\n",
       "      <td>0</td>\n",
       "      <td>0</td>\n",
       "      <td>0</td>\n",
       "      <td>0</td>\n",
       "      <td>0</td>\n",
       "      <td>0</td>\n",
       "      <td>0</td>\n",
       "    </tr>\n",
       "    <tr>\n",
       "      <th>2</th>\n",
       "      <td>4</td>\n",
       "      <td>0</td>\n",
       "      <td>0</td>\n",
       "      <td>0</td>\n",
       "      <td>0</td>\n",
       "      <td>0</td>\n",
       "      <td>0</td>\n",
       "      <td>0</td>\n",
       "      <td>0</td>\n",
       "      <td>0</td>\n",
       "      <td>...</td>\n",
       "      <td>0</td>\n",
       "      <td>0</td>\n",
       "      <td>0</td>\n",
       "      <td>0</td>\n",
       "      <td>0</td>\n",
       "      <td>0</td>\n",
       "      <td>0</td>\n",
       "      <td>0</td>\n",
       "      <td>0</td>\n",
       "      <td>0</td>\n",
       "    </tr>\n",
       "    <tr>\n",
       "      <th>3</th>\n",
       "      <td>1</td>\n",
       "      <td>0</td>\n",
       "      <td>0</td>\n",
       "      <td>0</td>\n",
       "      <td>0</td>\n",
       "      <td>0</td>\n",
       "      <td>0</td>\n",
       "      <td>0</td>\n",
       "      <td>0</td>\n",
       "      <td>0</td>\n",
       "      <td>...</td>\n",
       "      <td>0</td>\n",
       "      <td>0</td>\n",
       "      <td>0</td>\n",
       "      <td>0</td>\n",
       "      <td>0</td>\n",
       "      <td>0</td>\n",
       "      <td>0</td>\n",
       "      <td>0</td>\n",
       "      <td>0</td>\n",
       "      <td>0</td>\n",
       "    </tr>\n",
       "    <tr>\n",
       "      <th>4</th>\n",
       "      <td>9</td>\n",
       "      <td>0</td>\n",
       "      <td>0</td>\n",
       "      <td>0</td>\n",
       "      <td>0</td>\n",
       "      <td>0</td>\n",
       "      <td>0</td>\n",
       "      <td>0</td>\n",
       "      <td>0</td>\n",
       "      <td>0</td>\n",
       "      <td>...</td>\n",
       "      <td>0</td>\n",
       "      <td>0</td>\n",
       "      <td>0</td>\n",
       "      <td>0</td>\n",
       "      <td>0</td>\n",
       "      <td>0</td>\n",
       "      <td>0</td>\n",
       "      <td>0</td>\n",
       "      <td>0</td>\n",
       "      <td>0</td>\n",
       "    </tr>\n",
       "  </tbody>\n",
       "</table>\n",
       "<p>5 rows × 785 columns</p>\n",
       "</div>"
      ],
      "text/plain": [
       "   label  1x1  1x2  1x3  1x4  1x5  1x6  1x7  1x8  1x9  ...  28x19  28x20  \\\n",
       "0      5    0    0    0    0    0    0    0    0    0  ...      0      0   \n",
       "1      0    0    0    0    0    0    0    0    0    0  ...      0      0   \n",
       "2      4    0    0    0    0    0    0    0    0    0  ...      0      0   \n",
       "3      1    0    0    0    0    0    0    0    0    0  ...      0      0   \n",
       "4      9    0    0    0    0    0    0    0    0    0  ...      0      0   \n",
       "\n",
       "   28x21  28x22  28x23  28x24  28x25  28x26  28x27  28x28  \n",
       "0      0      0      0      0      0      0      0      0  \n",
       "1      0      0      0      0      0      0      0      0  \n",
       "2      0      0      0      0      0      0      0      0  \n",
       "3      0      0      0      0      0      0      0      0  \n",
       "4      0      0      0      0      0      0      0      0  \n",
       "\n",
       "[5 rows x 785 columns]"
      ]
     },
     "execution_count": 2,
     "metadata": {},
     "output_type": "execute_result"
    }
   ],
   "source": [
    "# check the number of each class\n",
    "df_train = pd.read_csv(\"dataset/mnist_train.csv\")\n",
    "df_valid = pd.read_csv(\"dataset/mnist_test.csv\")\n",
    "\n",
    "print(df_train.shape, df_valid.shape)\n",
    "df_train.head()"
   ]
  },
  {
   "cell_type": "code",
   "execution_count": 3,
   "id": "ebdf1732",
   "metadata": {},
   "outputs": [
    {
     "data": {
      "image/png": "[encoded data removed]",
      "text/plain": [
       "<Figure size 640x480 with 1 Axes>"
      ]
     },
     "metadata": {},
     "output_type": "display_data"
    }
   ],
   "source": [
    "# visualization\n",
    "img = df_train.iloc[0, 1:].to_numpy().reshape(28, 28)\n",
    "plt.imshow(img, cmap=\"gray\")\n",
    "plt.show()"
   ]
  },
  {
   "cell_type": "code",
   "execution_count": 4,
   "id": "308f2d56",
   "metadata": {},
   "outputs": [
    {
     "data": {
      "text/plain": [
       "(label\n",
       " 1    6742\n",
       " 7    6265\n",
       " 3    6131\n",
       " 2    5958\n",
       " 9    5949\n",
       " 0    5923\n",
       " 6    5918\n",
       " 8    5851\n",
       " 4    5842\n",
       " 5    5421\n",
       " Name: count, dtype: int64,\n",
       " label\n",
       " 1    1135\n",
       " 2    1032\n",
       " 7    1028\n",
       " 3    1010\n",
       " 9    1009\n",
       " 4     982\n",
       " 0     980\n",
       " 8     974\n",
       " 6     958\n",
       " 5     892\n",
       " Name: count, dtype: int64)"
      ]
     },
     "execution_count": 4,
     "metadata": {},
     "output_type": "execute_result"
    }
   ],
   "source": [
    "df_train[\"label\"].value_counts(), df_valid[\"label\"].value_counts()"
   ]
  },
  {
   "cell_type": "code",
   "execution_count": 5,
   "id": "bccb042b",
   "metadata": {},
   "outputs": [
    {
     "data": {
      "text/plain": [
       "((1000, 785),\n",
       " (10000, 785),\n",
       " label\n",
       " 1    116\n",
       " 6    111\n",
       " 7    111\n",
       " 0    110\n",
       " 3    105\n",
       " 2     96\n",
       " 4     96\n",
       " 8     86\n",
       " 9     86\n",
       " 5     83\n",
       " Name: count, dtype: int64,\n",
       " label\n",
       " 4    122\n",
       " 1    118\n",
       " 3    104\n",
       " 9    102\n",
       " 7     98\n",
       " 0     96\n",
       " 8     92\n",
       " 6     91\n",
       " 2     90\n",
       " 5     87\n",
       " Name: count, dtype: int64)"
      ]
     },
     "execution_count": 5,
     "metadata": {},
     "output_type": "execute_result"
    }
   ],
   "source": [
    "# sample subset\n",
    "seed = 0\n",
    "random.seed(seed)\n",
    "sample_each_set = 1000\n",
    "\n",
    "df_train_sample = df_train.sample(sample_each_set, random_state=seed)\n",
    "df_valid_sample = df_valid.sample(sample_each_set, random_state=seed)\n",
    "df_train_sample.shape, df_valid.shape, df_train_sample[\"label\"].value_counts(), df_valid_sample[\"label\"].value_counts()"
   ]
  },
  {
   "cell_type": "code",
   "execution_count": 6,
   "id": "b601449b",
   "metadata": {},
   "outputs": [
    {
     "data": {
      "text/plain": [
       "(torch.Size([1, 28, 28]), tensor([3]))"
      ]
     },
     "execution_count": 6,
     "metadata": {},
     "output_type": "execute_result"
    }
   ],
   "source": [
    "class MnistCsvClassificationDataset(Dataset):\n",
    "    def __init__(self, df: pd.DataFrame):\n",
    "        self.num_classes = 10\n",
    "        self.labels = df[\"label\"].to_numpy()\n",
    "        self.imgs = df.iloc[:, 1:].to_numpy().reshape(-1, 28, 28)\n",
    "        self.transform = transforms.Compose(\n",
    "            [\n",
    "                transforms.ToTensor(),\n",
    "                transforms.ColorJitter(brightness=0.2, contrast=0.2),  # 1-v, 1+v\n",
    "            ]\n",
    "        )\n",
    "\n",
    "    def __len__(self):\n",
    "        return len(self.labels)\n",
    "    \n",
    "    def __getitem__(self, index: int):\n",
    "        \"\"\"\n",
    "        Args:\n",
    "            index (int)\n",
    "        Returns:\n",
    "            x (torch.Tensor float): image, shape = (1, h, w)\n",
    "            y (torch.Tensor int): class index, shape = (1,)\n",
    "        \"\"\"\n",
    "        x = self.imgs[index]\n",
    "        x = self.transform(x)  # (h, w, c) -> (c, h, w)\n",
    "        x = x.type(torch.float32)\n",
    "        y = torch.Tensor([self.labels[index]]).type(torch.int64)\n",
    "        return x, y\n",
    "\n",
    "\n",
    "trainset = MnistCsvClassificationDataset(df_train_sample)\n",
    "validset = MnistCsvClassificationDataset(df_valid_sample)\n",
    "trainset[0][0].shape, trainset[0][1]"
   ]
  },
  {
   "cell_type": "code",
   "execution_count": 7,
   "id": "c32a3abc",
   "metadata": {},
   "outputs": [],
   "source": [
    "batch_size = 16\n",
    "\n",
    "trainloader = DataLoader(trainset, batch_size=batch_size, pin_memory=False, shuffle=False)\n",
    "validloader = DataLoader(validset, batch_size=batch_size, pin_memory=False, shuffle=False)"
   ]
  },
  {
   "cell_type": "code",
   "execution_count": null,
   "id": "54ee8430",
   "metadata": {},
   "outputs": [],
   "source": []
  },
  {
   "cell_type": "markdown",
   "id": "4ae94061",
   "metadata": {},
   "source": [
    "### 2. Model prepatation\n",
    "+ 2.1 model\n",
    "+ 2.2 loss\n",
    "+ 2.3 more hyperparameters"
   ]
  },
  {
   "cell_type": "code",
   "execution_count": 38,
   "id": "c04ddfcf",
   "metadata": {},
   "outputs": [
    {
     "data": {
      "text/plain": [
       "device(type='cpu')"
      ]
     },
     "execution_count": 38,
     "metadata": {},
     "output_type": "execute_result"
    }
   ],
   "source": [
    "# model\n",
    "#model_name = \"simple_cnn\"\n",
    "model_name = \"resnet18\"\n",
    "\n",
    "device = torch.device(\"cuda\" if torch.cuda.is_available() else \"cpu\")\n",
    "device"
   ]
  },
  {
   "cell_type": "code",
   "execution_count": null,
   "id": "a87ca321",
   "metadata": {},
   "outputs": [
    {
     "name": "stdout",
     "output_type": "stream",
     "text": [
      "SimpleCNN(\n",
      "  (conv1): Conv2d(1, 16, kernel_size=(3, 3), stride=(1, 1), padding=(1, 1))\n",
      "  (conv2): Conv2d(16, 16, kernel_size=(3, 3), stride=(1, 1), padding=(1, 1))\n",
      "  (dense1): Linear(in_features=784, out_features=10, bias=True)\n",
      "  (relu): ReLU()\n",
      "  (maxpool): MaxPool2d(kernel_size=2, stride=2, padding=0, dilation=1, ceil_mode=False)\n",
      "  (flatten): Flatten(start_dim=1, end_dim=-1)\n",
      ")\n",
      "num_parameters: 10330\n",
      "torch.Size([1, 10])\n"
     ]
    }
   ],
   "source": [
    "class SimpleCNN(torch.nn.Module):\n",
    "    def __init__(\n",
    "            self,\n",
    "            input_c: int,\n",
    "            input_h: int,\n",
    "            input_w: int,\n",
    "            num_output_features: int,\n",
    "            hidden_cnn: int = 64,\n",
    "        ):\n",
    "        super().__init__()\n",
    "        self.conv1 = torch.nn.Conv2d(in_channels=input_c, out_channels=hidden_cnn, kernel_size=3, stride=1, padding=1)\n",
    "        self.conv2 = torch.nn.Conv2d(in_channels=hidden_cnn, out_channels=hidden_cnn, kernel_size=3, stride=1, padding=1)\n",
    "        self.dense1 = torch.nn.Linear(input_h * input_w * hidden_cnn // 4 ** 2, num_output_features)\n",
    "\n",
    "        self.relu   = torch.nn.ReLU()\n",
    "        self.maxpool= torch.nn.MaxPool2d(2)\n",
    "        self.flatten = torch.nn.Flatten()\n",
    "        # don't do softmax, since nn.functional.CrossEntropyLoss will do\n",
    "\n",
    "    def forward(self, x):  # (B, 1, 28, 28)\n",
    "        x = self.conv1(x)\n",
    "        x = self.relu(x)\n",
    "        x = self.maxpool(x)  # (B, 16, 14, 14)\n",
    "        x = self.conv2(x)\n",
    "        x = self.relu(x)\n",
    "        x = self.maxpool(x)  # (B, 16, 7, 7)\n",
    "        x = self.flatten(x)  # (B, 784)\n",
    "        x = self.dense1(x)  # (B, 2)\n",
    "        return x\n",
    "\n",
    "\n",
    "if model_name == \"simple_cnn\":\n",
    "    model = SimpleCNN(1, 28, 28, 10, 16).to(device)\n",
    "    print(model)\n",
    "    print(\"num_parameters:\", sum(p.numel() for p in model.parameters()))\n",
    "    example_x, example_y = next(iter(trainset))\n",
    "    print(model(example_x.unsqueeze(0)).shape)"
   ]
  },
  {
   "cell_type": "code",
   "execution_count": 39,
   "id": "33c17b23",
   "metadata": {},
   "outputs": [
    {
     "name": "stdout",
     "output_type": "stream",
     "text": [
      "SimpleCNN(\n",
      "  (conv1): Conv2d(1, 16, kernel_size=(3, 3), stride=(1, 1), padding=(1, 1))\n",
      "  (conv2): Conv2d(16, 16, kernel_size=(3, 3), stride=(1, 1), padding=(1, 1))\n",
      "  (dense1): Linear(in_features=784, out_features=10, bias=True)\n",
      "  (relu): ReLU()\n",
      "  (maxpool): MaxPool2d(kernel_size=2, stride=2, padding=0, dilation=1, ceil_mode=False)\n",
      "  (flatten): Flatten(start_dim=1, end_dim=-1)\n",
      ")\n",
      "num_parameters: 10330\n",
      "torch.Size([1, 10])\n"
     ]
    }
   ],
   "source": [
    "class ResNet18(torch.nn.Module):\n",
    "    def __init__(self, num_output_features: int):\n",
    "        super().__init__()\n",
    "        self.resnet18 = models.resnet18(pretrained=True).to(device)\n",
    "        in_features = self.resnet18.fc.in_features\n",
    "        self.backbone.fc = torch.nn.Linear(in_features, num_output_features)\n",
    "\n",
    "    def forward(self, x):  # (B, 3, h, w)\n",
    "        return self.resnet18(x)  # (B, 2)\n",
    "\n",
    "if model_name == \"resnet18\":\n",
    "    model = SimpleCNN(1, 28, 28, 10, 16).to(device)\n",
    "    print(model)\n",
    "    print(\"num_parameters:\", sum(p.numel() for p in model.parameters()))\n",
    "    example_x, example_y = next(iter(trainset))\n",
    "    print(model(example_x.unsqueeze(0)).shape)"
   ]
  },
  {
   "cell_type": "code",
   "execution_count": null,
   "id": "12070f7c",
   "metadata": {},
   "outputs": [
    {
     "name": "stdout",
     "output_type": "stream",
     "text": [
      "num_parameters: 86577666\n",
      "torch.Size([1, 10])\n"
     ]
    }
   ],
   "source": [
    "class ViT(torch.nn.Module):\n",
    "    def __init__(self, num_output_features: int):\n",
    "        super().__init__()\n",
    "        self.vit = models.vit_b_16(pretrained=True)\n",
    "        self.dense = torch.nn.Linear(1000, num_output_features)\n",
    "        \n",
    "    def forward(self, x):  # (B, 3, h, w)\n",
    "        x = self.vit(x)  # (B, 10)\n",
    "        x = self.dense(x)\n",
    "        return x\n",
    "\n",
    "if model_name == \"resnet18\":\n",
    "    model = ViT(10).to(device)\n",
    "    print(\"num_parameters:\", sum(p.numel() for p in model.parameters()))\n",
    "    example_x = torch.rand(3, 224, 224).unsqueeze(0).to(device)\n",
    "    print(model(example_x).shape)"
   ]
  },
  {
   "cell_type": "code",
   "execution_count": 55,
   "id": "abd5ec2f",
   "metadata": {},
   "outputs": [
    {
     "data": {
      "text/plain": [
       "torch.Size([1, 28, 28])"
      ]
     },
     "execution_count": 55,
     "metadata": {},
     "output_type": "execute_result"
    }
   ],
   "source": [
    "#transforms.Resize((224, 224))(example_x).shape\n",
    "example_x.shape"
   ]
  },
  {
   "cell_type": "code",
   "execution_count": 11,
   "id": "37c9840d",
   "metadata": {},
   "outputs": [],
   "source": [
    "# loss\n",
    "loss_func = torch.nn.CrossEntropyLoss()\n",
    "\n",
    "# more hyperparama\n",
    "epochs = 50\n",
    "optimizer = torch.optim.Adam(model.parameters(), lr=1e-4)\n",
    "save_ckpts_per_epochs = 30"
   ]
  },
  {
   "cell_type": "markdown",
   "id": "bc741e13",
   "metadata": {},
   "source": [
    "### 3. Training\n",
    "+ 3.1 epoch: train loop, valid loop, save ckpts and loss\n",
    "+ 3.2 check convergence"
   ]
  },
  {
   "cell_type": "code",
   "execution_count": 12,
   "id": "e8e120f0",
   "metadata": {},
   "outputs": [
    {
     "name": "stderr",
     "output_type": "stream",
     "text": [
      "train_loss: 0.0002, val_loss: 0.0369: 100%|██████████| 50/50 [00:52<00:00,  1.04s/it]\n"
     ]
    }
   ],
   "source": [
    "history = {\"train_loss_list\": [], \"valid_loss_list\": []}\n",
    "pbar = tqdm(range(epochs))\n",
    "for epoch in pbar:\n",
    "    # training loop\n",
    "    train_loss= 0.\n",
    "    for x, y in trainloader:\n",
    "        x, y = x.to(device), y.to(device)\n",
    "        optimizer.zero_grad()      # 1. zero the parameter gradients\n",
    "        pred = model(x)            # 2. f(x) and f'(x)\n",
    "        loss = loss_func(pred, y.reshape(-1))  # 3. compute loss\n",
    "        loss.backward()            # 4. send loss to torch\n",
    "        optimizer.step()           # 5. update model parameters by torch loss \n",
    "        train_loss += loss.item() / len(trainset)\n",
    "        \n",
    "    # validation\n",
    "    valid_loss = 0.\n",
    "    for x, y in validloader:\n",
    "        with torch.no_grad():\n",
    "            x, y = x.to(device), y.to(device)\n",
    "            pred = model(x)\n",
    "            loss = loss_func(pred, y.reshape(-1))\n",
    "            valid_loss += loss.item() / len(validset)\n",
    "\n",
    "    # save\n",
    "    history[\"train_loss_list\"].append(train_loss)\n",
    "    history[\"valid_loss_list\"].append(valid_loss)\n",
    "    with open(os.path.join(output_dir, \"history.json\"), \"w\") as f:\n",
    "        json.dump(history, f, indent=4)\n",
    "    if valid_loss == min(history[\"valid_loss_list\"]):\n",
    "        torch.save(model.state_dict(), os.path.join(output_dir, \"best.pt\"))\n",
    "    elif (epoch + 1) % save_ckpts_per_epochs == 0:\n",
    "        torch.save(\n",
    "            model.state_dict(),\n",
    "            os.path.join(output_dir, f\"epoch_{str(epoch).zfill(3)}.pt\")\n",
    "        )\n",
    "    pbar.set_description(f\"train_loss: {train_loss:.4f}, val_loss: {valid_loss:.4f}\")"
   ]
  },
  {
   "cell_type": "code",
   "execution_count": 13,
   "id": "7f79a364",
   "metadata": {},
   "outputs": [
    {
     "data": {
      "image/png": "[encoded data removed]",
      "text/plain": [
       "<Figure size 640x480 with 1 Axes>"
      ]
     },
     "metadata": {},
     "output_type": "display_data"
    }
   ],
   "source": [
    "# check convergence\n",
    "history = json.load(open(os.path.join(output_dir, \"history.json\")))\n",
    "f = plt.figure()\n",
    "f.set_facecolor(\"orange\")\n",
    "plt.plot(history['train_loss_list'], label='train_loss')\n",
    "plt.plot(history['valid_loss_list'], label='valid_loss')\n",
    "plt.xlabel(\"epochs\")\n",
    "plt.ylabel(\"mse\")\n",
    "plt.legend()\n",
    "plt.grid()\n",
    "plt.show()"
   ]
  },
  {
   "cell_type": "code",
   "execution_count": null,
   "id": "70c4999d",
   "metadata": {},
   "outputs": [],
   "source": []
  },
  {
   "cell_type": "markdown",
   "id": "bbad3db9",
   "metadata": {},
   "source": [
    "### 4. Prediction\n",
    "+ 4.1 testset\n",
    "+ 4.2 (optional) metrics\n",
    "+ 4.3 (optional) data improvement"
   ]
  },
  {
   "cell_type": "code",
   "execution_count": 29,
   "id": "5362daed",
   "metadata": {},
   "outputs": [
    {
     "name": "stderr",
     "output_type": "stream",
     "text": [
      "/var/folders/8c/4wnm02yj2qq_z31kr6t6sm4r0000gn/T/ipykernel_2082/3435913382.py:22: UserWarning: Implicit dimension choice for softmax has been deprecated. Change the call to include dim=X as an argument.\n",
      "  prediction_list.append(torch.nn.functional.softmax(pred).cpu().numpy())  # (B, 10)\n"
     ]
    },
    {
     "name": "stdout",
     "output_type": "stream",
     "text": [
      "       label  1x1  1x2  1x3  1x4  1x5  1x6  1x7  1x8  1x9  ...        pred_1  \\\n",
      "3048       3    0    0    0    0    0    0    0    0    0  ...  3.438342e-04   \n",
      "19563      6    0    0    0    0    0    0    0    0    0  ...  1.696553e-14   \n",
      "58303      6    0    0    0    0    0    0    0    0    0  ...  3.199358e-05   \n",
      "8870       6    0    0    0    0    0    0    0    0    0  ...  3.744557e-14   \n",
      "40228      0    0    0    0    0    0    0    0    0    0  ...  1.311638e-19   \n",
      "...      ...  ...  ...  ...  ...  ...  ...  ...  ...  ...  ...           ...   \n",
      "13048      7    0    0    0    0    0    0    0    0    0  ...  1.341766e-16   \n",
      "36895      6    0    0    0    0    0    0    0    0    0  ...  3.692836e-11   \n",
      "36438      9    0    0    0    0    0    0    0    0    0  ...  1.204782e-15   \n",
      "25996      3    0    0    0    0    0    0    0    0    0  ...  5.880150e-18   \n",
      "35790      7    0    0    0    0    0    0    0    0    0  ...  4.822092e-08   \n",
      "\n",
      "             pred_2        pred_3        pred_4        pred_5        pred_6  \\\n",
      "3048   4.591621e-08  9.978703e-01  4.515236e-09  2.637966e-06  5.399019e-14   \n",
      "19563  6.341166e-07  1.577715e-12  2.615741e-07  1.193487e-11  9.996904e-01   \n",
      "58303  9.259056e-06  1.236783e-11  3.584143e-04  1.113898e-04  9.992909e-01   \n",
      "8870   7.053334e-08  7.913028e-14  3.470520e-08  5.366579e-12  9.999999e-01   \n",
      "40228  1.675946e-09  2.961774e-16  1.646852e-14  2.124069e-05  6.254273e-05   \n",
      "...             ...           ...           ...           ...           ...   \n",
      "13048  1.000757e-08  7.947852e-13  1.628214e-15  1.481658e-15  1.279881e-18   \n",
      "36895  4.334638e-09  5.509705e-14  6.750941e-14  2.932842e-07  9.999982e-01   \n",
      "36438  8.534899e-18  5.037667e-08  1.833903e-13  3.226166e-09  4.328137e-12   \n",
      "25996  4.022588e-16  9.999011e-01  1.354154e-15  3.537216e-08  7.757027e-12   \n",
      "35790  2.963877e-08  6.245987e-09  4.211145e-08  7.625822e-15  1.588710e-13   \n",
      "\n",
      "             pred_7        pred_8        pred_9          loss  \n",
      "3048   7.564076e-17  1.783135e-03  1.091903e-11  2.131930e-03  \n",
      "19563  1.443975e-16  3.087331e-04  4.291555e-15  3.096578e-04  \n",
      "58303  7.268536e-08  1.894537e-04  3.122529e-08  7.092821e-04  \n",
      "8870   7.652184e-17  1.508146e-11  7.667411e-16  1.192093e-07  \n",
      "40228  1.570406e-18  3.223462e-08  3.508513e-14  8.380062e-05  \n",
      "...             ...           ...           ...           ...  \n",
      "13048  1.000000e+00  1.710347e-14  4.704991e-08 -0.000000e+00  \n",
      "36895  5.521838e-17  1.436504e-06  6.197553e-14  1.788138e-06  \n",
      "36438  1.943638e-09  1.200791e-13  1.000000e+00 -0.000000e+00  \n",
      "25996  1.991283e-09  9.673753e-05  4.278422e-09  9.893881e-05  \n",
      "35790  9.999354e-01  2.580097e-05  3.863139e-05  6.460935e-05  \n",
      "\n",
      "[1000 rows x 796 columns]\n"
     ]
    },
    {
     "name": "stderr",
     "output_type": "stream",
     "text": [
      "/var/folders/8c/4wnm02yj2qq_z31kr6t6sm4r0000gn/T/ipykernel_2082/3435913382.py:22: UserWarning: Implicit dimension choice for softmax has been deprecated. Change the call to include dim=X as an argument.\n",
      "  prediction_list.append(torch.nn.functional.softmax(pred).cpu().numpy())  # (B, 10)\n"
     ]
    },
    {
     "name": "stdout",
     "output_type": "stream",
     "text": [
      "      label  1x1  1x2  1x3  1x4  1x5  1x6  1x7  1x8  1x9  ...        pred_1  \\\n",
      "9394      8    0    0    0    0    0    0    0    0    0  ...  6.139543e-08   \n",
      "898       7    0    0    0    0    0    0    0    0    0  ...  1.832699e-06   \n",
      "2398      1    0    0    0    0    0    0    0    0    0  ...  9.998997e-01   \n",
      "5906      7    0    0    0    0    0    0    0    0    0  ...  2.728123e-13   \n",
      "2343      1    0    0    0    0    0    0    0    0    0  ...  9.637975e-01   \n",
      "...     ...  ...  ...  ...  ...  ...  ...  ...  ...  ...  ...           ...   \n",
      "9319      9    0    0    0    0    0    0    0    0    0  ...  2.534837e-09   \n",
      "2662      2    0    0    0    0    0    0    0    0    0  ...  1.583900e-12   \n",
      "6925      0    0    0    0    0    0    0    0    0    0  ...  3.070391e-19   \n",
      "8070      3    0    0    0    0    0    0    0    0    0  ...  1.719375e-13   \n",
      "3651      1    0    0    0    0    0    0    0    0    0  ...  9.992441e-01   \n",
      "\n",
      "            pred_2        pred_3        pred_4        pred_5        pred_6  \\\n",
      "9394  6.968999e-06  7.611594e-07  3.277205e-07  9.747168e-01  4.218926e-03   \n",
      "898   9.183256e-03  3.731485e-02  6.517952e-03  9.430388e-10  6.312482e-08   \n",
      "2398  4.636069e-09  2.587417e-05  2.403337e-08  1.846152e-06  1.557869e-06   \n",
      "5906  3.145720e-10  3.343182e-11  6.739290e-02  2.082782e-10  2.778101e-14   \n",
      "2343  4.084900e-05  6.903074e-05  2.468688e-08  2.441665e-07  3.242867e-10   \n",
      "...            ...           ...           ...           ...           ...   \n",
      "9319  7.827217e-20  5.282066e-07  1.310427e-03  5.177507e-07  8.091859e-15   \n",
      "2662  9.997789e-01  1.665823e-07  2.727283e-05  4.595772e-12  1.936099e-04   \n",
      "6925  2.917390e-08  4.005907e-10  2.691259e-15  1.105215e-11  2.520993e-09   \n",
      "8070  3.979904e-12  1.000000e+00  2.970053e-14  5.077178e-08  3.711194e-19   \n",
      "3651  5.456072e-07  7.463276e-04  4.797141e-07  1.003720e-07  1.173981e-09   \n",
      "\n",
      "            pred_7        pred_8        pred_9          loss  \n",
      "9394  8.919570e-07  2.105521e-02  2.416587e-12  3.860607e+00  \n",
      "898   9.443894e-01  2.590424e-03  2.191455e-06  5.721667e-02  \n",
      "2398  4.505561e-08  6.831422e-05  2.754019e-06  1.002500e-04  \n",
      "5906  7.073315e-01  1.754441e-13  2.252757e-01  3.462559e-01  \n",
      "2343  2.448162e-02  9.098130e-05  1.151669e-02  3.687409e-02  \n",
      "...            ...           ...           ...           ...  \n",
      "9319  7.868657e-11  4.042742e-11  9.986886e-01  1.312229e-03  \n",
      "2662  4.695003e-09  1.219151e-07  1.514134e-10  2.211088e-04  \n",
      "6925  2.204029e-07  1.196325e-07  3.064457e-08  3.576278e-07  \n",
      "8070  9.453709e-10  1.550031e-10  3.952996e-11 -0.000000e+00  \n",
      "3651  1.061078e-08  8.452636e-06  4.774883e-10  7.562161e-04  \n",
      "\n",
      "[1000 rows x 796 columns]\n"
     ]
    }
   ],
   "source": [
    "# load checkpoints and inference\n",
    "\n",
    "ckpt_path = os.path.join(output_dir, \"best.pt\")\n",
    "trainloader = trainloader\n",
    "validloader = validloader\n",
    "\n",
    "model = SimpleCNN(1, 28, 28, 10, 16).to(device)\n",
    "model.load_state_dict(torch.load(ckpt_path))\n",
    "model.eval()\n",
    "loss_func = torch.nn.CrossEntropyLoss(reduction=\"none\")\n",
    "\n",
    "for dataset_result, loader, name in [\n",
    "        (df_train_sample, trainloader, \"train\"),\n",
    "        (df_valid_sample, validloader, \"valid\")\n",
    "    ]:\n",
    "    prediction_list = []\n",
    "    loss_list = []\n",
    "    for x, y in loader:\n",
    "        with torch.no_grad():\n",
    "            pred = model(x)\n",
    "            loss = loss_func(pred, y.reshape(-1))\n",
    "            prediction_list.append(torch.nn.functional.softmax(pred).cpu().numpy())  # (B, 10)\n",
    "            loss_list.append(loss.cpu().numpy())  # (B, 10) -> (B,)\n",
    "    preds = np.concatenate(prediction_list)  # (N, num_output_features)\n",
    "    loss = np.concatenate(loss_list)\n",
    "    dataset_result[[f\"pred_{i}\" for i in range(10)]] = preds\n",
    "    dataset_result[\"loss\"] = loss\n",
    "    dataset_result.to_csv(os.path.join(output_dir, f\"{name}_dataset_result.csv\"))\n",
    "    print(dataset_result)"
   ]
  },
  {
   "cell_type": "code",
   "execution_count": 32,
   "id": "b5e546da",
   "metadata": {},
   "outputs": [
    {
     "data": {
      "text/html": [
       "<div>\n",
       "<style scoped>\n",
       "    .dataframe tbody tr th:only-of-type {\n",
       "        vertical-align: middle;\n",
       "    }\n",
       "\n",
       "    .dataframe tbody tr th {\n",
       "        vertical-align: top;\n",
       "    }\n",
       "\n",
       "    .dataframe thead th {\n",
       "        text-align: right;\n",
       "    }\n",
       "</style>\n",
       "<table border=\"1\" class=\"dataframe\">\n",
       "  <thead>\n",
       "    <tr style=\"text-align: right;\">\n",
       "      <th></th>\n",
       "      <th>label</th>\n",
       "      <th>pred_label</th>\n",
       "    </tr>\n",
       "  </thead>\n",
       "  <tbody>\n",
       "    <tr>\n",
       "      <th>0</th>\n",
       "      <td>8</td>\n",
       "      <td>5</td>\n",
       "    </tr>\n",
       "    <tr>\n",
       "      <th>1</th>\n",
       "      <td>7</td>\n",
       "      <td>7</td>\n",
       "    </tr>\n",
       "    <tr>\n",
       "      <th>2</th>\n",
       "      <td>1</td>\n",
       "      <td>1</td>\n",
       "    </tr>\n",
       "    <tr>\n",
       "      <th>3</th>\n",
       "      <td>7</td>\n",
       "      <td>7</td>\n",
       "    </tr>\n",
       "    <tr>\n",
       "      <th>4</th>\n",
       "      <td>1</td>\n",
       "      <td>1</td>\n",
       "    </tr>\n",
       "    <tr>\n",
       "      <th>...</th>\n",
       "      <td>...</td>\n",
       "      <td>...</td>\n",
       "    </tr>\n",
       "    <tr>\n",
       "      <th>995</th>\n",
       "      <td>9</td>\n",
       "      <td>9</td>\n",
       "    </tr>\n",
       "    <tr>\n",
       "      <th>996</th>\n",
       "      <td>2</td>\n",
       "      <td>2</td>\n",
       "    </tr>\n",
       "    <tr>\n",
       "      <th>997</th>\n",
       "      <td>0</td>\n",
       "      <td>0</td>\n",
       "    </tr>\n",
       "    <tr>\n",
       "      <th>998</th>\n",
       "      <td>3</td>\n",
       "      <td>3</td>\n",
       "    </tr>\n",
       "    <tr>\n",
       "      <th>999</th>\n",
       "      <td>1</td>\n",
       "      <td>1</td>\n",
       "    </tr>\n",
       "  </tbody>\n",
       "</table>\n",
       "<p>1000 rows × 2 columns</p>\n",
       "</div>"
      ],
      "text/plain": [
       "     label  pred_label\n",
       "0        8           5\n",
       "1        7           7\n",
       "2        1           1\n",
       "3        7           7\n",
       "4        1           1\n",
       "..     ...         ...\n",
       "995      9           9\n",
       "996      2           2\n",
       "997      0           0\n",
       "998      3           3\n",
       "999      1           1\n",
       "\n",
       "[1000 rows x 2 columns]"
      ]
     },
     "execution_count": 32,
     "metadata": {},
     "output_type": "execute_result"
    }
   ],
   "source": [
    "# (optional) metrics\n",
    "\n",
    "df_valid_result = pd.read_csv(os.path.join(output_dir, \"valid_dataset_result.csv\"))\n",
    "df_valid_result[\"pred_label\"] = df_valid_result[[f\"pred_{i}\" for i in range(10)]].to_numpy().argmax(axis=1)\n",
    "df_valid_result = df_valid_result[[\"label\", \"pred_label\"]]\n",
    "df_valid_result"
   ]
  },
  {
   "cell_type": "code",
   "execution_count": 35,
   "id": "830dc272",
   "metadata": {},
   "outputs": [
    {
     "name": "stdout",
     "output_type": "stream",
     "text": [
      "0.884\n",
      "[[ 89   0   2   1   1   1   2   0   0   0]\n",
      " [  0 116   0   1   0   0   0   0   1   0]\n",
      " [  0   0  81   2   2   0   0   0   5   0]\n",
      " [  0   0   4  93   0   3   0   2   2   0]\n",
      " [  1   0   1   0 111   0   3   1   1   4]\n",
      " [  2   0   0   8   0  72   2   1   2   0]\n",
      " [  3   1   3   0   0   2  81   0   1   0]\n",
      " [  0   1   5   1   0   0   0  88   1   2]\n",
      " [  1   1   1   1   3   4   3   2  72   4]\n",
      " [  3   3   0   1   8   1   0   5   0  81]]\n"
     ]
    }
   ],
   "source": [
    "print(accuracy_score(df_valid_result[\"label\"], df_valid_result[\"pred_label\"]))\n",
    "print(confusion_matrix(df_valid_result[\"label\"], df_valid_result[\"pred_label\"]))"
   ]
  },
  {
   "cell_type": "code",
   "execution_count": 37,
   "id": "939862f1",
   "metadata": {},
   "outputs": [
    {
     "name": "stdout",
     "output_type": "stream",
     "text": [
      "Empty DataFrame\n",
      "Columns: [Unnamed: 0, label, 1x1, 1x2, 1x3, 1x4, 1x5, 1x6, 1x7, 1x8, 1x9, 1x10, 1x11, 1x12, 1x13, 1x14, 1x15, 1x16, 1x17, 1x18, 1x19, 1x20, 1x21, 1x22, 1x23, 1x24, 1x25, 1x26, 1x27, 1x28, 2x1, 2x2, 2x3, 2x4, 2x5, 2x6, 2x7, 2x8, 2x9, 2x10, 2x11, 2x12, 2x13, 2x14, 2x15, 2x16, 2x17, 2x18, 2x19, 2x20, 2x21, 2x22, 2x23, 2x24, 2x25, 2x26, 2x27, 2x28, 3x1, 3x2, 3x3, 3x4, 3x5, 3x6, 3x7, 3x8, 3x9, 3x10, 3x11, 3x12, 3x13, 3x14, 3x15, 3x16, 3x17, 3x18, 3x19, 3x20, 3x21, 3x22, 3x23, 3x24, 3x25, 3x26, 3x27, 3x28, 4x1, 4x2, 4x3, 4x4, 4x5, 4x6, 4x7, 4x8, 4x9, 4x10, 4x11, 4x12, 4x13, 4x14, ...]\n",
      "Index: []\n",
      "\n",
      "[0 rows x 798 columns]\n",
      "     Unnamed: 0  label  1x1  1x2  1x3  1x4  1x5  1x6  1x7  1x8  ...  \\\n",
      "0          3048      3    0    0    0    0    0    0    0    0  ...   \n",
      "11        56085      8    0    0    0    0    0    0    0    0  ...   \n",
      "12         5007      0    0    0    0    0    0    0    0    0  ...   \n",
      "20        12231      6    0    0    0    0    0    0    0    0  ...   \n",
      "23        31835      7    0    0    0    0    0    0    0    0  ...   \n",
      "..          ...    ...  ...  ...  ...  ...  ...  ...  ...  ...  ...   \n",
      "937       30596      2    0    0    0    0    0    0    0    0  ...   \n",
      "948       24414      3    0    0    0    0    0    0    0    0  ...   \n",
      "962       44788      0    0    0    0    0    0    0    0    0  ...   \n",
      "971       28228      2    0    0    0    0    0    0    0    0  ...   \n",
      "975       54064      9    0    0    0    0    0    0    0    0  ...   \n",
      "\n",
      "           pred_2        pred_3        pred_4        pred_5        pred_6  \\\n",
      "0    4.591621e-08  9.978703e-01  4.515236e-09  2.637966e-06  5.399019e-14   \n",
      "11   1.109751e-18  1.227725e-14  7.269661e-18  2.902969e-13  3.621328e-18   \n",
      "12   1.537538e-10  4.315656e-12  3.694248e-17  2.774047e-12  6.765661e-14   \n",
      "20   5.552214e-08  3.224504e-09  4.745889e-09  3.628761e-10  9.999999e-01   \n",
      "23   6.635841e-18  1.517120e-07  8.719771e-14  1.655875e-08  7.466417e-21   \n",
      "..            ...           ...           ...           ...           ...   \n",
      "937  9.999991e-01  5.461517e-07  6.009587e-13  7.453764e-08  3.158863e-08   \n",
      "948  1.855310e-17  9.999726e-01  4.686780e-15  2.371313e-05  1.231057e-12   \n",
      "962  2.200208e-14  5.440190e-10  4.239200e-14  4.149355e-11  1.011229e-09   \n",
      "971  9.955758e-01  4.421495e-03  2.260345e-07  1.324568e-08  2.534733e-08   \n",
      "975  1.223393e-15  1.284075e-10  6.743321e-07  1.841274e-09  1.501483e-13   \n",
      "\n",
      "           pred_7        pred_8        pred_9          loss  pred_label  \n",
      "0    7.564076e-17  1.783135e-03  1.091903e-11  2.131930e-03           3  \n",
      "11   2.328621e-22  1.000000e+00  2.857428e-17 -0.000000e+00           8  \n",
      "12   4.556098e-18  1.942044e-09  3.847919e-11 -0.000000e+00           0  \n",
      "20   1.515686e-09  1.141685e-08  8.784755e-14  1.192093e-07           6  \n",
      "23   9.908717e-01  3.802345e-14  9.128172e-03  9.170200e-03           7  \n",
      "..            ...           ...           ...           ...         ...  \n",
      "937  8.041847e-11  1.190979e-07  8.753526e-13  9.536739e-07           2  \n",
      "948  2.853261e-12  3.656983e-06  4.861810e-11  2.741776e-05           3  \n",
      "962  5.760146e-12  8.814436e-09  9.692320e-11 -0.000000e+00           0  \n",
      "971  1.943117e-09  2.441815e-06  1.738757e-10  4.434039e-03           2  \n",
      "975  1.666694e-03  3.949742e-10  9.983326e-01  1.668848e-03           9  \n",
      "\n",
      "[116 rows x 798 columns]\n"
     ]
    }
   ],
   "source": [
    "# (optional) data improvement\n",
    "\n",
    "df_train_result = pd.read_csv(os.path.join(output_dir, \"train_dataset_result.csv\"))\n",
    "df_train_result[\"pred_label\"] = df_train_result[[f\"pred_{i}\" for i in range(10)]].to_numpy().argmax(axis=1)\n",
    "df_train_improve = df_train_result[df_train_result[\"label\"] != df_train_result[\"pred_label\"]]\n",
    "print(df_train_improve)\n",
    "\n",
    "df_valid_result = pd.read_csv(os.path.join(output_dir, \"valid_dataset_result.csv\"))\n",
    "df_valid_result[\"pred_label\"] = df_valid_result[[f\"pred_{i}\" for i in range(10)]].to_numpy().argmax(axis=1)\n",
    "df_valid_improve = df_train_result[df_valid_result[\"label\"] != df_valid_result[\"pred_label\"]]\n",
    "print(df_valid_improve)"
   ]
  },
  {
   "cell_type": "code",
   "execution_count": null,
   "id": "79631780",
   "metadata": {},
   "outputs": [],
   "source": []
  }
 ],
 "metadata": {
  "kernelspec": {
   "display_name": "test",
   "language": "python",
   "name": "python3"
  },
  "language_info": {
   "codemirror_mode": {
    "name": "ipython",
    "version": 3
   },
   "file_extension": ".py",
   "mimetype": "text/x-python",
   "name": "python",
   "nbconvert_exporter": "python",
   "pygments_lexer": "ipython3",
   "version": "3.11.7"
  }
 },
 "nbformat": 4,
 "nbformat_minor": 5
}
