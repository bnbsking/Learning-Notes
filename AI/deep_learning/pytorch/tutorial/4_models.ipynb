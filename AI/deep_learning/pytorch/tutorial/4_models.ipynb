{
 "cells": [
  {
   "attachments": {},
   "cell_type": "markdown",
   "metadata": {},
   "source": [
    "### models"
   ]
  },
  {
   "cell_type": "code",
   "execution_count": 2,
   "metadata": {},
   "outputs": [],
   "source": [
    "import torch\n",
    "from torchvision.models import resnet50, densenet121, vit_b_16"
   ]
  },
  {
   "cell_type": "code",
   "execution_count": null,
   "metadata": {},
   "outputs": [],
   "source": [
    "class MyModel(torch.nn.Module):\n",
    "    def __init__(self, backbone:str, pretrained=None, output_dim=2):\n",
    "        super().__init__()\n",
    "        self.backbone = self.get_backbone(backbone, pretrained)\n",
    "        self.head = torch.nn.Linear(1000, output_dim)\n",
    "        #self.head = torch.nn.Sequential(*[\n",
    "        #    torch.nn.Linear(1000,64),\n",
    "        #    torch.nn.ReLU(),\n",
    "        #    torch.nn.Dropout(0.2),\n",
    "        #    torch.nn.Linear(64,classes),\n",
    "        #])\n",
    "        print(\"parameters=\", sum(parameter.numel() for parameter in self.parameters()))\n",
    "\n",
    "    def get_backbone(self, backbone:str, pretrained:bool):\n",
    "        if backbone=='resnet50': # 97.8MB, top-1 76.13, (B,3,224,224) -> (B,1000)\n",
    "            return resnet50(weights='IMAGENET1K_V1' if pretrained else 'default')\n",
    "        elif backbone=='denseet121': # 30.8MB, top-1 74.43, (B,3,224,224) -> (B,1000)\n",
    "            return densenet121(weights='IMAGENET1K_V1' if pretrained else 'default')\n",
    "        elif backbone=='ViT_b_16': # 330.3MB, top-1 81.07, (B,3,224,224) -> (B,1000)\n",
    "            return vit_b_16(weights='IMAGENET1K_V1' if pretrained else 'default')\n",
    "        else:\n",
    "            raise \"UnKnown Backbone\"\n",
    "           \n",
    "    def forward(self, x): # (B,3,224,224) -> (B,output_dim)\n",
    "        x = self.backbone(x)\n",
    "        x = self.head(x)\n",
    "        return x"
   ]
  },
  {
   "cell_type": "code",
   "execution_count": null,
   "metadata": {},
   "outputs": [],
   "source": [
    "#model = MyModel(args.backbone, args.pretrained, args.output_dim)\n",
    "#if args.resume:\n",
    "#    model.load_state_dict(torch.load(args.resume))\n",
    "#else:\n",
    "#    assert args.mode=='train', f\"{args.mode} needs pretrained weights\"\n",
    "#model.to(device)\n",
    "\n",
    "#torch.save(model.state_dict(), os.path.join(args.results, 'model.pt'))"
   ]
  },
  {
   "cell_type": "code",
   "execution_count": null,
   "metadata": {},
   "outputs": [],
   "source": [
    "D = model.state_dict()\n",
    "print( [(name,D[name].shape,D[name].numel()) for name in D] )\n",
    "P = model.named_parameters()\n",
    "print( [(name,weight.shape,weight.numel()) for name,weight in P] )\n",
    "\n",
    "with torch.no_grad():\n",
    "    testInput = torch.rand(2,13).to('cuda')\n",
    "    start = time.time()\n",
    "    pred = model(testInput)\n",
    "    print( round(time.time()-start,5), pred )"
   ]
  },
  {
   "cell_type": "code",
   "execution_count": null,
   "metadata": {},
   "outputs": [],
   "source": [
    "print( list(model.named_parameters())[-1][1] ) # last layer # weight # every time will different\n",
    "torch.save({'model_state_dict':model.state_dict(),'epoch':0,'loss':99}, 'init.pth')"
   ]
  },
  {
   "cell_type": "code",
   "execution_count": null,
   "metadata": {},
   "outputs": [],
   "source": [
    "model = MyModel().to('cuda')\n",
    "print( list(model.named_parameters())[-1][1] )\n",
    "\n",
    "checkpoint = torch.load('./init.pth')\n",
    "model.load_state_dict(checkpoint['model_state_dict'])\n",
    "epoch = checkpoint['epoch']\n",
    "loss = checkpoint['loss']\n",
    "\n",
    "print( list(model.named_parameters())[-1][1], epoch, loss )"
   ]
  },
  {
   "cell_type": "code",
   "execution_count": null,
   "metadata": {},
   "outputs": [],
   "source": [
    "\"\"\"\n",
    "model.eval()            # Turn off some layers such as dropout, batch normalization for model inference\n",
    "with torch.no_grad():   # Turn off gradient calculation\n",
    "    pass\n",
    "\"\"\""
   ]
  }
 ],
 "metadata": {
  "kernelspec": {
   "display_name": "test",
   "language": "python",
   "name": "python3"
  },
  "language_info": {
   "codemirror_mode": {
    "name": "ipython",
    "version": 3
   },
   "file_extension": ".py",
   "mimetype": "text/x-python",
   "name": "python",
   "nbconvert_exporter": "python",
   "pygments_lexer": "ipython3",
   "version": "3.8.16"
  },
  "vscode": {
   "interpreter": {
    "hash": "4de884d891615765edd271cb3c15e2a75ba9303f259ba1474785180bf9788ba0"
   }
  }
 },
 "nbformat": 4,
 "nbformat_minor": 4
}
