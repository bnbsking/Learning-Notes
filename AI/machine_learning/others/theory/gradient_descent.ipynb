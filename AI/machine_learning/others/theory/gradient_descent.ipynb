{
 "cells": [
  {
   "cell_type": "markdown",
   "metadata": {},
   "source": [
    "# Gradient descent\n",
    "+ 0 Normal\n",
    "+ 1 Adagrad: Decrease sum of learning rate w.r.t. epoch\n",
    "+ 2 RMSProp: Decrease average of learning rate w.r.t. epoch\n",
    "+ 3 Momentum: Increase learning rate w.r.t. loss decreasing\n",
    "+ 4 Adam\n",
    "\n",
    "Reference: https://chih-sheng-huang821.medium.com/%E6%A9%9F%E5%99%A8%E5%AD%B8%E7%BF%92-%E5%9F%BA%E7%A4%8E%E6%95%B8%E5%AD%B8-%E4%B8%89-%E6%A2%AF%E5%BA%A6%E6%9C%80%E4%BD%B3%E8%A7%A3%E7%9B%B8%E9%97%9C%E7%AE%97%E6%B3%95-gradient-descent-optimization-algorithms-b61ed1478bd7\n",
    "\n",
    "Only `0 Normal` is currently maintained"
   ]
  },
  {
   "cell_type": "code",
   "execution_count": 3,
   "metadata": {},
   "outputs": [],
   "source": [
    "from typing import Callable\n",
    "import matplotlib.pyplot as plt\n",
    "\n",
    "\n",
    "def loss(a: float, b: float) -> float:\n",
    "    return (a - 1) ** 2 + (b - 2) ** 2\n",
    "\n",
    "def grad(a: float, b: float) -> tuple[float, float]:\n",
    "    h = 1e-6\n",
    "    l0 = loss(a, b)\n",
    "    ga = (loss(a + h, b) - l0) / h\n",
    "    gb = (loss(a, b + h) - l0) / h\n",
    "    return ga, gb"
   ]
  },
  {
   "cell_type": "markdown",
   "metadata": {},
   "source": [
    "### 0. Normal gradient descent"
   ]
  },
  {
   "cell_type": "code",
   "execution_count": 4,
   "metadata": {},
   "outputs": [
    {
     "name": "stdout",
     "output_type": "stream",
     "text": [
      "i=0, a=0, b=0, loss=5\n",
      "i=20, a=0.33239, b=0.66478, loss=2.2285\n",
      "i=40, a=0.5543, b=1.1086, loss=0.99324\n",
      "i=60, a=0.70245, b=1.40489, loss=0.44269\n",
      "i=80, a=0.80135, b=1.6027, loss=0.19731\n",
      "i=100, a=0.86738, b=1.73476, loss=0.08794\n",
      "i=120, a=0.91146, b=1.82292, loss=0.0392\n",
      "i=140, a=0.94089, b=1.88178, loss=0.01747\n",
      "i=160, a=0.96054, b=1.92108, loss=0.00779\n",
      "i=180, a=0.97365, b=1.94731, loss=0.00347\n",
      "i=200, a=0.98241, b=1.96482, loss=0.00155\n",
      "i=220, a=0.98826, b=1.97652, loss=0.00069\n",
      "i=240, a=0.99216, b=1.98432, loss=0.00031\n",
      "i=260, a=0.99477, b=1.98953, loss=0.00014\n",
      "i=280, a=0.99651, b=1.99301, loss=6e-05\n",
      "i=300, a=0.99767, b=1.99533, loss=3e-05\n",
      "i=320, a=0.99844, b=1.99689, loss=1e-05\n",
      "i=340, a=0.99896, b=1.99792, loss=1e-05\n",
      "i=360, a=0.99931, b=1.99861, loss=0.0\n",
      "i=380, a=0.99954, b=1.99907, loss=0.0\n"
     ]
    },
    {
     "data": {
      "image/png": "[encoded data removed]",
      "text/plain": [
       "<Figure size 640x480 with 1 Axes>"
      ]
     },
     "metadata": {},
     "output_type": "display_data"
    }
   ],
   "source": [
    "def get_new_params(grad_func: Callable, lr: float, a: float, b: float) -> tuple[float, float]:\n",
    "    ga, gb = grad_func(a, b)\n",
    "    a = a-lr*ga\n",
    "    b = b-lr*gb\n",
    "    return a, b\n",
    "\n",
    "# initialization\n",
    "a, b = 0, 0\n",
    "lr, epochs = 1e-2, 400\n",
    "\n",
    "# gradient descent\n",
    "loss_list = []\n",
    "for i in range(epochs):\n",
    "    l0 = loss(a, b)\n",
    "    loss_list.append(l0)\n",
    "    if i % 20 == 0:\n",
    "        print(f\"i={i}, a={round(a, 5)}, b={round(b, 5)}, loss={round(l0, 5)}\")\n",
    "    a, b = get_new_params(grad, lr, a, b)\n",
    "\n",
    "plt.title(\"gradient descent\")\n",
    "plt.plot(loss_list)\n",
    "plt.show()"
   ]
  },
  {
   "cell_type": "code",
   "execution_count": null,
   "metadata": {},
   "outputs": [],
   "source": []
  },
  {
   "cell_type": "markdown",
   "metadata": {},
   "source": [
    "### Below NO longer maintained\n",
    "\n",
    "### Momentum gradient descent"
   ]
  },
  {
   "cell_type": "code",
   "execution_count": 4,
   "metadata": {},
   "outputs": [
    {
     "name": "stdout",
     "output_type": "stream",
     "text": [
      "i=0, a=0, b=0, loss=5, va=0, vb=0,\n",
      "i=10, a=0.69285, b=1.38573, loss=0.47168, va=-0.09006, vb=-0.18012,\n",
      "i=20, a=1.27061, b=2.54128, loss=0.36621, va=-0.02287, vb=-0.04575,\n",
      "i=30, a=1.17578, b=2.35161, loss=0.15453, va=0.02559, vb=0.05118,\n",
      "i=40, a=0.95024, b=1.90052, loss=0.01237, va=0.01448, vb=0.02895,\n",
      "i=50, a=0.92602, b=1.85208, loss=0.02735, va=-0.00525, vb=-0.01049,\n",
      "i=60, a=0.99851, b=1.99706, loss=1e-05, va=-0.00638, vb=-0.01276,\n",
      "i=70, a=1.02536, b=2.05078, loss=0.00322, va=0.00021, vb=0.00042,\n",
      "i=80, a=1.00691, b=2.01387, loss=0.00024, va=0.00228, vb=0.00456,\n",
      "i=90, a=0.99286, b=1.98576, loss=0.00025, va=0.00051, vb=0.00101,\n",
      "i=100, a=0.99572, b=1.99149, loss=9e-05, va=-0.00067, vb=-0.00133,\n",
      "i=110, a=1.00135, b=2.00275, loss=1e-05, va=-0.00035, vb=-0.00069,\n",
      "i=120, a=1.00178, b=2.00361, loss=2e-05, va=0.00014, vb=0.00029,\n",
      "i=130, a=0.99993, b=1.9999, loss=0.0, va=0.00016, vb=0.00031,\n",
      "i=140, a=0.99931, b=1.99866, loss=0.0, va=-1e-05, vb=-2e-05,\n",
      "i=150, a=0.99979, b=1.99964, loss=0.0, va=-6e-05, vb=-0.00011,\n",
      "i=160, a=1.00014, b=2.00032, loss=0.0, va=-1e-05, vb=-2e-05,\n",
      "i=170, a=1.00005, b=2.00015, loss=0.0, va=2e-05, vb=3e-05,\n",
      "i=180, a=0.99991, b=1.99987, loss=0.0, va=1e-05, vb=2e-05,\n",
      "i=190, a=0.9999, b=1.99986, loss=0.0, va=-0.0, vb=-1e-05,\n",
      "i=200, a=0.99995, b=1.99995, loss=0.0, va=-0.0, vb=-1e-05,\n",
      "i=210, a=0.99997, b=1.99998, loss=0.0, va=0.0, vb=0.0,\n",
      "i=220, a=0.99995, b=1.99996, loss=0.0, va=0.0, vb=0.0,\n",
      "i=230, a=0.99995, b=1.99994, loss=0.0, va=0.0, vb=0.0,\n",
      "i=240, a=0.99995, b=1.99995, loss=0.0, va=-0.0, vb=-0.0,\n",
      "i=250, a=0.99995, b=1.99995, loss=0.0, va=-0.0, vb=-0.0,\n",
      "i=260, a=0.99995, b=1.99995, loss=0.0, va=0.0, vb=0.0,\n",
      "i=270, a=0.99995, b=1.99995, loss=0.0, va=0.0, vb=0.0,\n",
      "i=280, a=0.99995, b=1.99995, loss=0.0, va=-0.0, vb=-0.0,\n",
      "i=290, a=0.99995, b=1.99995, loss=0.0, va=-0.0, vb=-0.0,\n",
      "i=300, a=0.99995, b=1.99995, loss=0.0, va=-0.0, vb=-0.0,\n",
      "i=310, a=0.99995, b=1.99995, loss=0.0, va=0.0, vb=0.0,\n",
      "i=320, a=0.99995, b=1.99995, loss=0.0, va=0.0, vb=0.0,\n",
      "i=330, a=0.99995, b=1.99995, loss=0.0, va=-0.0, vb=-0.0,\n",
      "i=340, a=0.99995, b=1.99995, loss=0.0, va=-0.0, vb=-0.0,\n",
      "i=350, a=0.99995, b=1.99995, loss=0.0, va=0.0, vb=0.0,\n",
      "i=360, a=0.99995, b=1.99995, loss=0.0, va=0.0, vb=0.0,\n",
      "i=370, a=0.99995, b=1.99995, loss=0.0, va=0.0, vb=0.0,\n",
      "i=380, a=0.99995, b=1.99995, loss=0.0, va=-0.0, vb=-0.0,\n",
      "i=390, a=0.99995, b=1.99995, loss=0.0, va=-0.0, vb=-0.0,\n"
     ]
    },
    {
     "data": {
      "image/png": "[encoded data removed]",
      "text/plain": [
       "<Figure size 432x288 with 1 Axes>"
      ]
     },
     "metadata": {
      "needs_background": "light"
     },
     "output_type": "display_data"
    }
   ],
   "source": [
    "def mgd(loss,grad,lr,a,b,va,vb,i,m=0.9): # new va,vb,i,m\n",
    "    ga, gb = grad(a,b)\n",
    "    if i==0:\n",
    "        va = lr*ga \n",
    "        vb = lr*gb\n",
    "    else:\n",
    "        va = m*va+lr*ga\n",
    "        vb = m*vb+lr*gb\n",
    "    a = a-va\n",
    "    b = b-vb\n",
    "    return a, b, va, vb\n",
    "\n",
    "a, b = 0, 0\n",
    "va, vb = 0, 0 # new va,vb\n",
    "lr = 1e-2\n",
    "lossL2 = []\n",
    "for i in range(400):\n",
    "    l0 = loss(a,b)\n",
    "    lossL2.append(l0)\n",
    "    if i%10==0:\n",
    "        print(f\"i={i}, a={round(a,5)}, b={round(b,5)}, loss={round(l0,5)}, va={round(va,5)}, vb={round(vb,5)},\")\n",
    "    a,b,va,vb = mgd(loss,grad,lr,a,b,va,vb,i) # new va,vb,i,m\n",
    "    \n",
    "plt.title(\"momentum gradient descent\")\n",
    "plt.plot(lossL2)\n",
    "plt.show()"
   ]
  },
  {
   "cell_type": "markdown",
   "metadata": {},
   "source": [
    "### Adam gradient descent"
   ]
  },
  {
   "cell_type": "code",
   "execution_count": 5,
   "metadata": {},
   "outputs": [
    {
     "name": "stdout",
     "output_type": "stream",
     "text": [
      "i=0, a=1, b=1, loss=1, ma=0,mb=0,va=0,vb=0\n",
      "i=10, a=0.99481, b=1.09965, loss=0.81066, ma=-2e-05,mb=-1.23297,va=0.0,vb=0.03635\n",
      "i=20, a=0.99769, b=1.19733, loss=0.64428, ma=0.00101,mb=-1.53423,va=0.0,vb=0.06519\n",
      "i=30, a=1.00001, b=1.29132, loss=0.50223, ma=0.00072,mb=-1.51444,va=0.0,vb=0.08757\n",
      "i=40, a=1.0006, b=1.38024, loss=0.3841, ma=0.00029,mb=-1.38851,va=0.0,vb=0.1045\n",
      "i=50, a=1.00048, b=1.46318, loss=0.28818, ma=0.00011,mb=-1.23286,va=0.0,vb=0.11696\n",
      "i=60, a=1.00026, b=1.53953, loss=0.21203, ma=7e-05,mb=-1.0751,va=0.0,vb=0.12584\n",
      "i=70, a=1.00008, b=1.60899, loss=0.15289, ma=6e-05,mb=-0.92541,va=0.0,vb=0.13191\n",
      "i=80, a=0.99994, b=1.67143, loss=0.10796, ma=5e-05,mb=-0.78763,va=0.0,vb=0.13584\n",
      "i=90, a=0.99988, b=1.72689, loss=0.07459, ma=2e-05,mb=-0.66313,va=0.0,vb=0.13815\n",
      "i=100, a=0.9999, b=1.77554, loss=0.05038, ma=0.0,mb=-0.55225,va=0.0,vb=0.13928\n",
      "i=110, a=0.99995, b=1.81767, loss=0.03324, ma=-1e-05,mb=-0.4548,va=0.0,vb=0.13957\n",
      "i=120, a=0.99997, b=1.85367, loss=0.02141, ma=-0.0,mb=-0.37026,va=0.0,vb=0.13928\n",
      "i=130, a=0.99995, b=1.88401, loss=0.01345, ma=0.0,mb=-0.2979,va=0.0,vb=0.13859\n",
      "i=140, a=0.99994, b=1.90923, loss=0.00824, ma=0.0,mb=-0.23677,va=0.0,vb=0.13765\n",
      "i=150, a=0.99995, b=1.92989, loss=0.00492, ma=-0.0,mb=-0.18585,va=0.0,vb=0.13654\n",
      "i=160, a=0.99995, b=1.94657, loss=0.00285, ma=0.0,mb=-0.14402,va=0.0,vb=0.13534\n",
      "i=170, a=0.99995, b=1.95985, loss=0.00161, ma=0.0,mb=-0.11014,va=0.0,vb=0.13408\n",
      "i=180, a=0.99995, b=1.97025, loss=0.00088, ma=-0.0,mb=-0.0831,va=0.0,vb=0.13279\n",
      "i=190, a=0.99995, b=1.97828, loss=0.00047, ma=0.0,mb=-0.06182,va=0.0,vb=0.1315\n",
      "i=200, a=0.99995, b=1.98438, loss=0.00024, ma=-0.0,mb=-0.04534,va=0.0,vb=0.1302\n",
      "i=210, a=0.99995, b=1.98895, loss=0.00012, ma=0.0,mb=-0.03275,va=0.0,vb=0.12891\n",
      "i=220, a=0.99995, b=1.99231, loss=6e-05, ma=-0.0,mb=-0.02329,va=0.0,vb=0.12763\n",
      "i=230, a=0.99995, b=1.99473, loss=3e-05, ma=0.0,mb=-0.0163,va=0.0,vb=0.12637\n",
      "i=240, a=0.99995, b=1.99646, loss=1e-05, ma=-0.0,mb=-0.01121,va=0.0,vb=0.12511\n",
      "i=250, a=0.99995, b=1.99766, loss=1e-05, ma=0.0,mb=-0.00757,va=0.0,vb=0.12386\n",
      "i=260, a=0.99995, b=1.99849, loss=0.0, ma=-0.0,mb=-0.00501,va=0.0,vb=0.12263\n",
      "i=270, a=0.99995, b=1.99904, loss=0.0, ma=0.0,mb=-0.00325,va=0.0,vb=0.12141\n",
      "i=280, a=0.99995, b=1.9994, loss=0.0, ma=-0.0,mb=-0.00205,va=0.0,vb=0.1202\n",
      "i=290, a=0.99995, b=1.99963, loss=0.0, ma=0.0,mb=-0.00127,va=0.0,vb=0.119\n",
      "i=300, a=0.99995, b=1.99977, loss=0.0, ma=-0.0,mb=-0.00076,va=0.0,vb=0.11782\n",
      "i=310, a=0.99995, b=1.99985, loss=0.0, ma=-0.0,mb=-0.00044,va=0.0,vb=0.11665\n",
      "i=320, a=0.99995, b=1.9999, loss=0.0, ma=0.0,mb=-0.00024,va=0.0,vb=0.11549\n",
      "i=330, a=0.99995, b=1.99993, loss=0.0, ma=-0.0,mb=-0.00013,va=0.0,vb=0.11434\n",
      "i=340, a=0.99995, b=1.99994, loss=0.0, ma=-0.0,mb=-6e-05,va=0.0,vb=0.1132\n",
      "i=350, a=0.99995, b=1.99995, loss=0.0, ma=0.0,mb=-3e-05,va=0.0,vb=0.11207\n",
      "i=360, a=0.99995, b=1.99995, loss=0.0, ma=0.0,mb=-1e-05,va=0.0,vb=0.11095\n",
      "i=370, a=0.99995, b=1.99995, loss=0.0, ma=-0.0,mb=-0.0,va=0.0,vb=0.10985\n",
      "i=380, a=0.99995, b=1.99995, loss=0.0, ma=-0.0,mb=0.0,va=0.0,vb=0.10876\n",
      "i=390, a=0.99995, b=1.99995, loss=0.0, ma=0.0,mb=0.0,va=0.0,vb=0.10767\n"
     ]
    },
    {
     "data": {
      "image/png": "[encoded data removed]",
      "text/plain": [
       "<Figure size 432x288 with 1 Axes>"
      ]
     },
     "metadata": {
      "needs_background": "light"
     },
     "output_type": "display_data"
    }
   ],
   "source": [
    "def adam(loss,grad,alpha,a,b,ma,mb,va,vb,i,beta1=0.9,beta2=0.999,epsilon=1e-8): # alpha=lr\n",
    "    ga, gb = grad(a,b)\n",
    "    ma = beta1*ma+(1-beta1)*ga\n",
    "    mb = beta1*mb+(1-beta1)*gb\n",
    "    va = beta2*va+(1-beta2)*ga**2\n",
    "    vb = beta2*vb+(1-beta2)*gb**2\n",
    "    corr_ma = ma/(1-beta1**(i+1))\n",
    "    corr_mb = mb/(1-beta1**(i+1))\n",
    "    corr_va = va/(1-beta2**(i+1))\n",
    "    corr_vb = vb/(1-beta2**(i+1))\n",
    "    a = a-alpha*corr_ma/(corr_va**0.5+epsilon)\n",
    "    b = b-alpha*corr_mb/(corr_vb**0.5+epsilon)\n",
    "    return a,b,ma,mb,va,vb\n",
    "\n",
    "a, b = 1, 1\n",
    "va, vb = 0, 0\n",
    "ma, mb = 0, 0\n",
    "alpha = 1e-2\n",
    "lossL3 = []\n",
    "for i in range(400):\n",
    "    l0 = loss(a,b)\n",
    "    lossL3.append(l0)\n",
    "    if i%10==0:\n",
    "        print(f\"i={i}, a={round(a,5)}, b={round(b,5)}, loss={round(l0,5)}, ma={round(ma,5)},mb={round(mb,5)},va={round(va,5)},vb={round(vb,5)}\")\n",
    "    a,b,ma,mb,va,vb = adam(loss,grad,alpha,a,b,ma,mb,va,vb,i) # new va,vb,i,m\n",
    "    \n",
    "plt.title(\"adagrad momentum gradient descent\")\n",
    "plt.plot(lossL3)\n",
    "plt.show()"
   ]
  },
  {
   "cell_type": "code",
   "execution_count": null,
   "metadata": {},
   "outputs": [],
   "source": []
  }
 ],
 "metadata": {
  "kernelspec": {
   "display_name": "test",
   "language": "python",
   "name": "python3"
  },
  "language_info": {
   "codemirror_mode": {
    "name": "ipython",
    "version": 3
   },
   "file_extension": ".py",
   "mimetype": "text/x-python",
   "name": "python",
   "nbconvert_exporter": "python",
   "pygments_lexer": "ipython3",
   "version": "3.11.7"
  }
 },
 "nbformat": 4,
 "nbformat_minor": 4
}
